{
 "cells": [
  {
   "cell_type": "markdown",
   "id": "437d4186",
   "metadata": {},
   "source": [
    "A tuple is a collection of objects which ordered and immutable. Tuples are sequences, just like lists. The differences between tuples and lists are, the tuples cannot be changed unlike lists and tuples use parentheses, whereas lists use square brackets."
   ]
  },
  {
   "cell_type": "code",
   "execution_count": 11,
   "id": "cc641034",
   "metadata": {},
   "outputs": [
    {
     "name": "stdout",
     "output_type": "stream",
     "text": [
      "(1, 2, 3, 4, 5)\n",
      "(1, 2, 3, 4, 5)\n",
      "1\n",
      "2\n",
      "3\n"
     ]
    }
   ],
   "source": [
    "# Defining a tuple\n",
    "my_tuple = (1,2,3,4,5)\n",
    "print(my_tuple)\n",
    "\n",
    "# Creating tuple without using parentheses: Tuple packing\n",
    "my_tuple = 1, 2, 3, 4, 5\n",
    "print(my_tuple)\n",
    "\n",
    "# Tuple unpackaging\n",
    "a, b, c, d, e = my_tuple\n",
    "print(a)\n",
    "print(b)\n",
    "print(c)"
   ]
  },
  {
   "cell_type": "markdown",
   "id": "3c89751e",
   "metadata": {},
   "source": [
    "A tuple can have any number of items and they may be of different types (integer, float, list, string, etc.)."
   ]
  },
  {
   "cell_type": "code",
   "execution_count": 3,
   "id": "986fad5e",
   "metadata": {},
   "outputs": [
    {
     "name": "stdout",
     "output_type": "stream",
     "text": [
      "()\n",
      "(1, 2, 3, 4, 5, 28.3, 'abc')\n",
      "(1, 2, 3, 4, 5, ['abc', 'def', 24.55, 7], (9, 10, 11))\n"
     ]
    }
   ],
   "source": [
    "# Creating empty tuple\n",
    "t = ()\n",
    "print(t)\n",
    "\n",
    "# Tuple with mixed datatypes\n",
    "my_tuple = (1, 2, 3, 4, 5, 28.3, 'abc')\n",
    "print(my_tuple)\n",
    "\n",
    "# Nested tuple\n",
    "nested_tuple = (1, 2, 3, 4, 5, ['abc', 'def', 24.55, 7], (9, 10, 11))\n",
    "print(nested_tuple)"
   ]
  },
  {
   "cell_type": "markdown",
   "id": "13e8736e",
   "metadata": {},
   "source": [
    "To write a tuple containing a single value you have to include a comma, even though there is only one value −"
   ]
  },
  {
   "cell_type": "code",
   "execution_count": 18,
   "id": "df32a930",
   "metadata": {},
   "outputs": [
    {
     "name": "stdout",
     "output_type": "stream",
     "text": [
      "('hello',)\n",
      "<class 'tuple'>\n",
      "('hello',)\n",
      "<class 'tuple'>\n",
      "hello\n",
      "<class 'str'>\n",
      "hello\n",
      "<class 'str'>\n"
     ]
    }
   ],
   "source": [
    "t = \"hello\",\n",
    "print(t)\n",
    "print(type(t))\n",
    "\n",
    "t = (\"hello\",)\n",
    "print(t)\n",
    "print(type(t))\n",
    "\n",
    "t = \"hello\"\n",
    "print(t)\n",
    "print(type(t))\n",
    "\n",
    "t = (\"hello\")\n",
    "print(t)\n",
    "print(type(t))"
   ]
  },
  {
   "cell_type": "markdown",
   "id": "535c449f",
   "metadata": {},
   "source": [
    "There are various ways in which we can access the elements of a tuple.\n",
    "Indexing: We can use the index operator [] to access an item in a tuple, where the index starts from 0."
   ]
  },
  {
   "cell_type": "code",
   "execution_count": 23,
   "id": "1c4c9517",
   "metadata": {},
   "outputs": [
    {
     "name": "stdout",
     "output_type": "stream",
     "text": [
      "(1, 2, 3, 4, 5, 28.3, 'abc', ['math', 'physics', 90.5, 100], ('chemistry', 'computers', 70.9, 80))\n",
      "1\n",
      "4\n",
      "28.3\n",
      "['math', 'physics', 90.5, 100]\n",
      "math\n",
      "('chemistry', 'computers', 70.9, 80)\n",
      "80\n"
     ]
    }
   ],
   "source": [
    "my_tuple = (1, 2, 3, 4, 5,28.3,'abc', ['math','physics',90.5,100], ('chemistry','computers',70.9,80))\n",
    "print(my_tuple)\n",
    "\n",
    "# first entry\n",
    "print(my_tuple[0])\n",
    "\n",
    "#fourth entry\n",
    "print(my_tuple[3])\n",
    "\n",
    "#sixth entry\n",
    "print(my_tuple[5])\n",
    "\n",
    "#eighth entry\n",
    "print(my_tuple[7])\n",
    "\n",
    "#first item in eighth entry\n",
    "print(my_tuple[7][0])\n",
    "\n",
    "#last entry\n",
    "print(my_tuple[8])\n",
    "\n",
    "#last item in last entry\n",
    "print(my_tuple[8][3])"
   ]
  },
  {
   "cell_type": "markdown",
   "id": "ee0d5374",
   "metadata": {},
   "source": [
    "Negative Indexing: Python allows negative indexing for its sequences.The index of -1 refers to the last item, -2 to the second last item and so on."
   ]
  },
  {
   "cell_type": "code",
   "execution_count": 30,
   "id": "01c990c3",
   "metadata": {},
   "outputs": [
    {
     "name": "stdout",
     "output_type": "stream",
     "text": [
      "('chemistry', 'computers', 70.9, 80)\n",
      "80\n",
      "['math', 'physics', 90.5, 100]\n",
      "100\n",
      "28.3\n",
      "5\n",
      "4\n"
     ]
    }
   ],
   "source": [
    "# last entry\n",
    "print(my_tuple[-1])\n",
    "\n",
    "#last item in last entry\n",
    "print(my_tuple[-1][-1])\n",
    "\n",
    "#fourth entry\n",
    "print(my_tuple[-2])\n",
    "\n",
    "#last item in eighth entry\n",
    "print(my_tuple[-2][-1])\n",
    "\n",
    "#fifth entry\n",
    "print(my_tuple[-4])\n",
    "\n",
    "#fourth entry\n",
    "print(my_tuple[-5])\n",
    "\n",
    "#fourth entry\n",
    "print(my_tuple[-6])"
   ]
  },
  {
   "cell_type": "markdown",
   "id": "d748c591",
   "metadata": {},
   "source": [
    "Slicing: We can access a range of items in a tuple by using the slicing operator colon :."
   ]
  },
  {
   "cell_type": "code",
   "execution_count": 44,
   "id": "65562aa7",
   "metadata": {},
   "outputs": [
    {
     "name": "stdout",
     "output_type": "stream",
     "text": [
      "('t', 'h', 'o')\n",
      "('n', 't', 'u', 'p', 'l', 'e')\n",
      "('p', 't', 'o', 't', 'p')\n",
      "('p', 'y', 't', 'h', 'o', 'n', 't', 'u', 'p', 'l', 'e')\n"
     ]
    }
   ],
   "source": [
    "my_tuple = ('p', 'y', 't', 'h', 'o', 'n', 't', 'u', 'p', 'l','e')\n",
    "\n",
    "# elements from index 2 to index 4\n",
    "print(my_tuple[2:5])\n",
    "\n",
    "# elements from index 5 to end\n",
    "print(my_tuple[5:])\n",
    "\n",
    "# elements from index 0 to 10 by taking 2 jumps\n",
    "print(my_tuple[0:10:2])\n",
    "\n",
    "# elements beginning to end\n",
    "print(my_tuple[:])"
   ]
  },
  {
   "cell_type": "code",
   "execution_count": 45,
   "id": "0910ba5d",
   "metadata": {},
   "outputs": [
    {
     "name": "stdout",
     "output_type": "stream",
     "text": [
      "('o', 'n', 't', 'u', 'p', 'l')\n",
      "('o', 't', 'p')\n",
      "('e', 'l', 'p', 'u', 't', 'n', 'o', 'h', 't', 'y', 'p')\n",
      "()\n"
     ]
    }
   ],
   "source": [
    "# elements from index 0 to 6\n",
    "print(my_tuple[-7:-1])\n",
    "\n",
    "# elements from index 0 to 6 by taking 2 jumps\n",
    "print(my_tuple[-7:-1:2])\n",
    "\n",
    "# reversing the list\n",
    "print(my_tuple[::-1])\n",
    "\n",
    "#printing empty list\n",
    "print(my_tuple[0:7:-1])"
   ]
  },
  {
   "cell_type": "code",
   "execution_count": 48,
   "id": "c788b8c9",
   "metadata": {},
   "outputs": [
    {
     "ename": "TypeError",
     "evalue": "'tuple' object does not support item assignment",
     "output_type": "error",
     "traceback": [
      "\u001b[1;31m---------------------------------------------------------------------------\u001b[0m",
      "\u001b[1;31mTypeError\u001b[0m                                 Traceback (most recent call last)",
      "\u001b[1;32m~\\AppData\\Local\\Temp/ipykernel_23472/2789694830.py\u001b[0m in \u001b[0;36m<module>\u001b[1;34m\u001b[0m\n\u001b[0;32m      1\u001b[0m \u001b[0mmy_tuple\u001b[0m \u001b[1;33m=\u001b[0m \u001b[1;33m(\u001b[0m\u001b[1;34m'p'\u001b[0m\u001b[1;33m,\u001b[0m \u001b[1;34m'y'\u001b[0m\u001b[1;33m,\u001b[0m \u001b[1;34m't'\u001b[0m\u001b[1;33m,\u001b[0m \u001b[1;34m'h'\u001b[0m\u001b[1;33m,\u001b[0m \u001b[1;34m'o'\u001b[0m\u001b[1;33m,\u001b[0m \u001b[1;34m'n'\u001b[0m\u001b[1;33m,\u001b[0m \u001b[1;34m't'\u001b[0m\u001b[1;33m,\u001b[0m \u001b[1;34m'u'\u001b[0m\u001b[1;33m,\u001b[0m \u001b[1;34m'p'\u001b[0m\u001b[1;33m,\u001b[0m \u001b[1;34m'l'\u001b[0m\u001b[1;33m,\u001b[0m\u001b[1;34m'e'\u001b[0m\u001b[1;33m,\u001b[0m\u001b[1;33m[\u001b[0m\u001b[1;36m1\u001b[0m\u001b[1;33m,\u001b[0m\u001b[1;36m2\u001b[0m\u001b[1;33m,\u001b[0m\u001b[1;36m3\u001b[0m\u001b[1;33m]\u001b[0m\u001b[1;33m)\u001b[0m\u001b[1;33m\u001b[0m\u001b[1;33m\u001b[0m\u001b[0m\n\u001b[1;32m----> 2\u001b[1;33m \u001b[0mmy_tuple\u001b[0m\u001b[1;33m[\u001b[0m\u001b[1;36m0\u001b[0m\u001b[1;33m]\u001b[0m \u001b[1;33m=\u001b[0m \u001b[1;34m'xyz'\u001b[0m\u001b[1;33m\u001b[0m\u001b[1;33m\u001b[0m\u001b[0m\n\u001b[0m\u001b[0;32m      3\u001b[0m \u001b[0mprint\u001b[0m\u001b[1;33m(\u001b[0m\u001b[0mmy_tuple\u001b[0m\u001b[1;33m)\u001b[0m\u001b[1;33m\u001b[0m\u001b[1;33m\u001b[0m\u001b[0m\n",
      "\u001b[1;31mTypeError\u001b[0m: 'tuple' object does not support item assignment"
     ]
    }
   ],
   "source": [
    "# values in tuple can't be changes\n",
    "my_tuple = ('p', 'y', 't', 'h', 'o', 'n', 't', 'u', 'p', 'l','e',[1,2,3])\n",
    "my_tuple[0] = 'xyz'\n",
    "print(my_tuple)"
   ]
  },
  {
   "cell_type": "code",
   "execution_count": 50,
   "id": "2e65d5d4",
   "metadata": {},
   "outputs": [
    {
     "ename": "TypeError",
     "evalue": "'tuple' object does not support item assignment",
     "output_type": "error",
     "traceback": [
      "\u001b[1;31m---------------------------------------------------------------------------\u001b[0m",
      "\u001b[1;31mTypeError\u001b[0m                                 Traceback (most recent call last)",
      "\u001b[1;32m~\\AppData\\Local\\Temp/ipykernel_23472/2135580644.py\u001b[0m in \u001b[0;36m<module>\u001b[1;34m\u001b[0m\n\u001b[0;32m      1\u001b[0m \u001b[0mmy_tuple\u001b[0m \u001b[1;33m=\u001b[0m \u001b[1;33m(\u001b[0m\u001b[1;34m'p'\u001b[0m\u001b[1;33m,\u001b[0m \u001b[1;34m'y'\u001b[0m\u001b[1;33m,\u001b[0m \u001b[1;34m't'\u001b[0m\u001b[1;33m,\u001b[0m \u001b[1;34m'h'\u001b[0m\u001b[1;33m,\u001b[0m \u001b[1;34m'o'\u001b[0m\u001b[1;33m,\u001b[0m \u001b[1;34m'n'\u001b[0m\u001b[1;33m,\u001b[0m \u001b[1;34m't'\u001b[0m\u001b[1;33m,\u001b[0m \u001b[1;34m'u'\u001b[0m\u001b[1;33m,\u001b[0m \u001b[1;34m'p'\u001b[0m\u001b[1;33m,\u001b[0m \u001b[1;34m'l'\u001b[0m\u001b[1;33m,\u001b[0m\u001b[1;34m'e'\u001b[0m\u001b[1;33m,\u001b[0m\u001b[1;33m(\u001b[0m\u001b[1;36m1\u001b[0m\u001b[1;33m,\u001b[0m\u001b[1;36m2\u001b[0m\u001b[1;33m,\u001b[0m\u001b[1;36m3\u001b[0m\u001b[1;33m)\u001b[0m\u001b[1;33m)\u001b[0m\u001b[1;33m\u001b[0m\u001b[1;33m\u001b[0m\u001b[0m\n\u001b[1;32m----> 2\u001b[1;33m \u001b[0mmy_tuple\u001b[0m\u001b[1;33m[\u001b[0m\u001b[1;36m11\u001b[0m\u001b[1;33m]\u001b[0m\u001b[1;33m[\u001b[0m\u001b[1;36m0\u001b[0m\u001b[1;33m]\u001b[0m\u001b[1;33m=\u001b[0m \u001b[1;36m100\u001b[0m\u001b[1;33m\u001b[0m\u001b[1;33m\u001b[0m\u001b[0m\n\u001b[0m\u001b[0;32m      3\u001b[0m \u001b[0mprint\u001b[0m\u001b[1;33m(\u001b[0m\u001b[0mmy_tuple\u001b[0m\u001b[1;33m)\u001b[0m\u001b[1;33m\u001b[0m\u001b[1;33m\u001b[0m\u001b[0m\n",
      "\u001b[1;31mTypeError\u001b[0m: 'tuple' object does not support item assignment"
     ]
    }
   ],
   "source": [
    "my_tuple = ('p', 'y', 't', 'h', 'o', 'n', 't', 'u', 'p', 'l','e',(1,2,3))\n",
    "my_tuple[11][0]= 100\n",
    "print(my_tuple)"
   ]
  },
  {
   "cell_type": "code",
   "execution_count": 49,
   "id": "d3b8523e",
   "metadata": {},
   "outputs": [
    {
     "name": "stdout",
     "output_type": "stream",
     "text": [
      "('p', 'y', 't', 'h', 'o', 'n', 't', 'u', 'p', 'l', 'e', [100, 2, 3])\n"
     ]
    }
   ],
   "source": [
    "# item of list element in a tuple can be changed\n",
    "my_tuple = ('p', 'y', 't', 'h', 'o', 'n', 't', 'u', 'p', 'l','e',[1,2,3])\n",
    "my_tuple[11][0]= 100\n",
    "print(my_tuple)"
   ]
  },
  {
   "cell_type": "markdown",
   "id": "6457f605",
   "metadata": {},
   "source": [
    "We can use + operator to combine two tuples. This is called concatenation. We can also repeat the elements in a tuple for a given number of times using the * operator. Both + and * operations result in a new tuple."
   ]
  },
  {
   "cell_type": "code",
   "execution_count": 51,
   "id": "5416ccdd",
   "metadata": {},
   "outputs": [
    {
     "name": "stdout",
     "output_type": "stream",
     "text": [
      "(1, 2, 3, 4, 5, 6, 8, 9, 10)\n",
      "('python', 'python', 'python', 'python', 'python')\n"
     ]
    }
   ],
   "source": [
    "# Concatenation\n",
    "print((1, 2, 3) + (4, 5, 6) + (8, 9, 10))\n",
    "\n",
    "# Repeat\n",
    "print((\"python\",) * 5)"
   ]
  },
  {
   "cell_type": "markdown",
   "id": "f46d997c",
   "metadata": {},
   "source": [
    "Tuple Methods: Methods that add items or remove items are not available with tuple. Only the following two methods are available.\n",
    "- count(): Returns the number of times a specified value occurs in a tuple. tuple.count(elem)\n",
    "- index(): Searches the tuple for a specified value and returns the position of where it was found. tuple.index(elem)"
   ]
  },
  {
   "cell_type": "code",
   "execution_count": 55,
   "id": "38dd181a",
   "metadata": {},
   "outputs": [
    {
     "name": "stdout",
     "output_type": "stream",
     "text": [
      "2\n",
      "4\n"
     ]
    }
   ],
   "source": [
    "my_tuple = ('p', 'y', 't', 'h', 'o', 'n', 't', 'u', 'p', 'l','e')\n",
    "print(my_tuple.count('t'))\n",
    "print(my_tuple.index('o'))"
   ]
  },
  {
   "cell_type": "markdown",
   "id": "35374a0e",
   "metadata": {},
   "source": [
    "Tuple Functions: Python includes the following tuple functions −\n",
    "- len(): Gives the total length of the tuple. len(tuple)\n",
    "- max(): Returns item from the tuple with max value. max(tuple)\n",
    "- min(): Returns item from the tuple with min value. min(tuple)\n",
    "- tuple(): Converts a list into tuple. tuple(seq)"
   ]
  },
  {
   "cell_type": "code",
   "execution_count": 61,
   "id": "33ca89c3",
   "metadata": {},
   "outputs": [
    {
     "name": "stdout",
     "output_type": "stream",
     "text": [
      "11\n",
      "y\n",
      "e\n",
      "(1, 2, 3, 4, 5)\n"
     ]
    }
   ],
   "source": [
    "my_tuple = ('p', 'y', 't', 'h', 'o', 'n', 't', 'u', 'p', 'l','e')\n",
    "\n",
    "print(len(my_tuple))\n",
    "print(max(my_tuple))\n",
    "print(min(my_tuple))\n",
    "print(tuple([1,2,3,4,5]))"
   ]
  },
  {
   "cell_type": "code",
   "execution_count": null,
   "id": "670d3886",
   "metadata": {},
   "outputs": [],
   "source": []
  },
  {
   "cell_type": "code",
   "execution_count": null,
   "id": "52a12da2",
   "metadata": {},
   "outputs": [],
   "source": []
  },
  {
   "cell_type": "code",
   "execution_count": null,
   "id": "f4756e7d",
   "metadata": {},
   "outputs": [],
   "source": []
  },
  {
   "cell_type": "code",
   "execution_count": null,
   "id": "ee847fa5",
   "metadata": {},
   "outputs": [],
   "source": []
  },
  {
   "cell_type": "code",
   "execution_count": null,
   "id": "af583ab6",
   "metadata": {},
   "outputs": [],
   "source": []
  },
  {
   "cell_type": "code",
   "execution_count": null,
   "id": "747ec9a2",
   "metadata": {},
   "outputs": [],
   "source": []
  },
  {
   "cell_type": "code",
   "execution_count": null,
   "id": "58772b0b",
   "metadata": {},
   "outputs": [],
   "source": []
  },
  {
   "cell_type": "code",
   "execution_count": null,
   "id": "a06b2cd6",
   "metadata": {},
   "outputs": [],
   "source": []
  },
  {
   "cell_type": "code",
   "execution_count": null,
   "id": "8be72125",
   "metadata": {},
   "outputs": [],
   "source": []
  },
  {
   "cell_type": "code",
   "execution_count": null,
   "id": "074a2781",
   "metadata": {},
   "outputs": [],
   "source": []
  },
  {
   "cell_type": "code",
   "execution_count": null,
   "id": "e7148bd1",
   "metadata": {},
   "outputs": [],
   "source": []
  },
  {
   "cell_type": "code",
   "execution_count": null,
   "id": "d5b7f0ef",
   "metadata": {},
   "outputs": [],
   "source": []
  },
  {
   "cell_type": "code",
   "execution_count": null,
   "id": "55dad878",
   "metadata": {},
   "outputs": [],
   "source": []
  },
  {
   "cell_type": "code",
   "execution_count": null,
   "id": "e0ab0e0e",
   "metadata": {},
   "outputs": [],
   "source": []
  },
  {
   "cell_type": "code",
   "execution_count": null,
   "id": "11ce6e3d",
   "metadata": {},
   "outputs": [],
   "source": []
  },
  {
   "cell_type": "code",
   "execution_count": null,
   "id": "ea97a336",
   "metadata": {},
   "outputs": [],
   "source": []
  },
  {
   "cell_type": "code",
   "execution_count": null,
   "id": "d3359042",
   "metadata": {},
   "outputs": [],
   "source": []
  }
 ],
 "metadata": {
  "kernelspec": {
   "display_name": "Python 3 (ipykernel)",
   "language": "python",
   "name": "python3"
  },
  "language_info": {
   "codemirror_mode": {
    "name": "ipython",
    "version": 3
   },
   "file_extension": ".py",
   "mimetype": "text/x-python",
   "name": "python",
   "nbconvert_exporter": "python",
   "pygments_lexer": "ipython3",
   "version": "3.9.7"
  }
 },
 "nbformat": 4,
 "nbformat_minor": 5
}
